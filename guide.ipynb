{
 "cells": [
  {
   "cell_type": "markdown",
   "metadata": {},
   "source": [
    "## ** Assistant For Mental Health**\n",
    "\n",
    "本项目将训练一个用于解答心灵困惑的小助手，基于InternLM2_chat_7b大模型和xtuner微调框架\n",
    "\n",
    "CUDA Version: 12.2\n",
    "torch 2.0.1"
   ]
  },
  {
   "cell_type": "markdown",
   "metadata": {},
   "source": []
  },
  {
   "cell_type": "markdown",
   "metadata": {},
   "source": [
    "### 环境安装"
   ]
  },
  {
   "cell_type": "code",
   "execution_count": null,
   "metadata": {},
   "outputs": [],
   "source": [
    "# 创建虚拟环境\n",
    "!conda create --name xtuner-env python=3.10 -y\n",
    "!conda activate xtuner-env\n",
    "# 下载xtuner\n",
    "!cd /home/ma-user/work\n",
    "!git clone https://github.com/InternLM/xtuner.git\n",
    "!cd xtuner\n",
    "# 安装第三方库\n",
    "%pip install -e '.[all]'"
   ]
  },
  {
   "cell_type": "markdown",
   "metadata": {},
   "source": []
  },
  {
   "cell_type": "markdown",
   "metadata": {},
   "source": [
    "### 下载模型internlm2-chat-7b"
   ]
  },
  {
   "cell_type": "code",
   "execution_count": null,
   "metadata": {},
   "outputs": [],
   "source": [
    "#模型下载\n",
    "!cd /home/ma-user/work\n",
    "#创建微调文件夹\n",
    "!mkdir -p /home/ma-user/work/ft\n",
    "!mkdir -p /home/ma-user/work/ft/model\n",
    "#复制模型于model中\n",
    "!cp -r /home/ma-user/work/internlm2-chat-7b/* /home/ma-user/work/ft/model/\n",
    "\n",
    "# 模型位置：/home/ma-user/work/ft/model"
   ]
  },
  {
   "cell_type": "markdown",
   "metadata": {},
   "source": []
  },
  {
   "cell_type": "markdown",
   "metadata": {},
   "source": [
    "### 准备数据集"
   ]
  },
  {
   "cell_type": "code",
   "execution_count": null,
   "metadata": {},
   "outputs": [],
   "source": [
    "#创造数据文件夹\n",
    "!mkdir -p /home/ma-user/work/ft/data\n",
    "#创建数据集 \n",
    "!touch /home/ma-user/work/ft/data/train.jsonl\n",
    "#将以下少量内容追加到train.jsonl中，用于简单训练\n",
    "!cat >> existing_file.txt << EOF\n",
    "!{\"messages\": [{\"role\": \"user\", \"content\": \"高中时期关系最好的三个闺蜜，死党那种，上了大学之后，由于我自己这边的特殊原因，无奈的跟她们断了联系，可是我心里一直还是拿她们当最好的朋友。如今十几年过去了，可以有条件联系她们了，便主动联系了她们，并且表达了歉意，我心里很想回到以前的知心朋友的状态，可是明显的感觉到彼此不冷不热的状态。一共主动联系了两次，大家给我的反馈都是不积极，虽然她们嘴上说让我有空回来发展，可以经常聚聚，但我不知道这是真心话还是客套话。这段时间我有意经常在朋友圈发我自己的动态，也有意去评论或点赞她们的朋友圈动态，目的是想慢慢捂热这段感情，可是觉得这样刻意维系的感情真的好累。如今跟她们所在的城市动车只有两个小时的路程，很想归心似箭的去见她们，可又害怕见面后的尴尬和失落。加上近一年来患了焦虑症和强迫症，病情不稳定，担心自己目前的状态去见十几年没有见面的老友，不太合适。我该怎么办？放下这段感情吗还是继续坚持？好累\"}, {\"role\": \"assistant\", \"content\": \"亲爱的，我非常理解你现在的困扰和疲惫感，这段长久失去联系又重新尝试恢复的友情对你来说一定非常重要。首先抱抱你，你的感受是完全正常的，毕竟人与人之间的关系会随着时间和环境的变化而发生改变，尤其是经历了这么长时间的断联，彼此的生活轨迹、社交圈子都发生了很大变化，所以你现在感受到的不冷不热也是可以预见的情况。\\n\\n首先，你需要明白，友情如同植物一样需要时间去灌溉和滋养，而不是一蹴而就的事情。你主动联系她们并表达歉意，这是非常好的第一步，说明你在珍视这份友谊，并愿意为此付出努力。但同时，你也需要给她们一些时间来适应这种重新连接的过程，可能她们也需要时间消化这些情感变化，思考如何回应你的情感诉求。\\n\\n在朋友圈互动是一种很好的方式，但也要适度，不必过于刻意，保持真诚就好。你可以尝试发起更多的话题讨论，分享你们共同的兴趣或回忆，以此为契机增进彼此了解和感情的交流。\\n\\n对于见面的问题，如果目前你的焦虑症和强迫症病情不稳定，确实可能会影响你的情绪状态和社交表现。在这种情况下，先照顾好自己的身心健康更为重要。建议你可以在心理状况较为稳定时再安排聚会，这样既能避免情绪波动带来的不适，也能更好地享受重逢的喜悦。\\n\\n至于是否坚持还是放下这段感情，这取决于你自己对这段友情的真实需求和期待，以及它对你生活的影响。如果你觉得即使努力维系后仍然感到疲惫不堪，影响到了自身心理健康，那么不妨给自己一个缓冲期，暂时把重心放在自我调适上；如果内心深处依然渴望这份友情，那就继续以温和而持久的方式去经营，相信时间会给出答案。\\n\\n无论选择哪条路，都要记住，每个人都有不同的步伐和节奏，有时候，我们需要学会接受无法立即修复的关系，或是放手让某些事情顺其自然发展。无论如何，你已经尽力了，这就足够了，对自己温柔一点，抱抱自己~(*￣3￣)╭♡ 一切都会慢慢变好的，加油哦！\"}]}{\"messages\": [{\"role\": \"user\", \"content\": \"最近有一些很烦的事情发生，然后情绪特别崩溃，总是无意识跟别人发脾气，这让我特别难过。因为我知道他们也没有做错什么，但是我就是把气撒在了他们身上。\"}, {\"role\": \"assistant\", \"content\": \"亲爱的小朋友，我非常理解你现在的心情，看到你正在经历这样的困扰，真的特别心疼呢。抱抱你，别太责怪自己了，每个人在生活中都可能遇到情绪难以控制的时候，尤其是在压力大、烦恼多的情况下，我们的情绪像是被吹得鼓鼓的气球，一不小心就爆发出来。你能够意识到自己的情绪转移，并为此感到难过，这已经是你自我反思和成长的第一步啦。\\n\\n首先，要明白的是，情绪崩溃并不是你的错，而是大脑在应对压力时的一种自然反应。不过，我们可以学习更健康的应对策略。当感觉情绪即将失控时，试试先深呼吸，数到十再回应他人，给自己一点缓冲时间；另外，尝试将情绪表达出来，比如写日记或者与信任的朋友分享，而不是把它们当作“炸药”投向无辜的人们。\\n\\n其次，建立日常的情绪管理机制也十分重要哦。可以试着进行冥想、瑜伽、运动等有助于缓解压力的方式；规律作息，保证充足的睡眠；培养兴趣爱好，让心灵有地方安放；还可以尝试正念练习，提高对自身情绪状态的觉察力。\\n\\n最后，如果这些方法仍然不能帮助你有效控制情绪，建议寻求专业的心理咨询师进行面对面的交流和指导，他们能提供更具体、个性化的心理支持和技巧训练。\\n\\n请记住，每个人都有情绪波动的时候，学会接纳自己的不完美，并勇敢面对挑战，才能逐步走出困境。你是很努力且值得被爱的，让我们一起加油，相信你可以慢慢学会更好地处理情绪，再次成为那个温暖而善良的你💪💖\"}]}{\"messages\": [{\"role\": \"user\", \"content\": \"我去年因为工作能力强一直被领导认可提拔，今年被外派到一个没有做过的岗位，同时兼任另一个部门领导，新岗位一直没出成绩，原岗位工作也没放太多精力，导致领导很着急，他脾气比较差，一直批评我，有时我甚至感觉在针对我，几乎没有正面的反馈，导致我现在害怕他的信息电话不敢见他，去年每天都充满干劲，但最近每天早上醒来都是绝望，每次一被他说我就开始开始陷入极度痛苦的情绪中无法工作，这也导致最近的工作效率很低，情绪很差，但因为我年纪比较大，转行到这家全球第一到公司，职位又是自己喜欢的，给我时间肯定能做好，但公司发展比较快不等人，我很珍惜现在的工作不想辞职，但又真的坚持不住了，情绪内耗太严重了，不知道有没有办法挽回，之前先，领导谈过一次，后来好了一段时间，最近又反复，感觉再沟通也是一样的结果\"}, {\"role\": \"assistant\", \"content\": \"亲爱的，我非常理解你现在的心情和处境，真的能感受到你的焦虑、压力与无助。抱抱你，先别那么紧张，我们一步步来面对和解决这个问题，好吗？\\n\\n首先，对于你在新岗位上遇到的挑战以及由此引发的情绪困扰，这是很正常的反应，毕竟每个人在面对全新的工作任务时都可能有一段适应期，尤其是当你肩负重任，身兼多职时，这无疑加大了工作难度和心理压力。我能想象到你一直在努力调整自己，尝试找到平衡点，但似乎还没能找到有效的应对策略。\\n\\n针对目前的情况，我们可以尝试以下几点建议：\\n\\n1. **明确目标与优先级**：尽管你有多个职责，但需要重新审视并划分工作的优先级，把注意力集中于关键任务上。与领导沟通，解释为何需要暂时将部分精力回归原岗位以稳定基础，并制定一个逐步过渡至新岗位的工作计划。\\n\\n2. **积极反馈与沟通**：主动向领导汇报工作进展，包括遇到的问题和取得的小成绩，让他了解你的努力与困境。同时，也可以表达对他的批评的理解，但也请他给予更多的指导和支持，正面反馈也是推动进步的重要动力。\\n\\n3. **寻求帮助与团队协作**：不要独自承担所有责任，可以寻找同事协助或者请教更有经验的同事，共同解决问题。同时，如果公司内部有相关的培训或资源，充分利用它们提升自己的业务能力。\\n\\n4. **情绪管理与自我关怀**：每天给自己设定一段专属的放松时间，做一些自己喜欢的事情，如运动、阅读或冥想等，有助于缓解工作压力。同时，正视并接纳自己的负面情绪，可以尝试通过写日记、深呼吸等方式进行情绪释放。\\n\\n5. **再次沟通与调整期望值**：若之前跟领导的谈话并未带来持续的改善，那不妨尝试再次深入沟通，坦诚地表达你当前面临的困扰和内心的痛苦，也提出希望得到的具体支持形式，例如延长适应期、调整工作内容或进度安排等。\\n\\n最后，亲爱的，无论如何，请记住，你已经具备了被认可的能力和价值，这段艰难的经历只会让你变得更加坚韧与强大。每一次失败和挫折都是成长的垫脚石，相信自己，给时间和耐心，你会走出低谷，找回那份充满干劲的状态的💪🌟\\n\\n再抱抱你，要对自己有信心哦！加油💪💖\"}]}\n",
    "!EOF\n",
    "\n",
    "# 数据文件位置：/home/ma-user/work/ft/data/data.jsonl"
   ]
  },
  {
   "cell_type": "markdown",
   "metadata": {},
   "source": []
  },
  {
   "cell_type": "markdown",
   "metadata": {},
   "source": [
    "### 准备配置文件"
   ]
  },
  {
   "cell_type": "code",
   "execution_count": null,
   "metadata": {},
   "outputs": [],
   "source": [
    "# 下载配置文件\n",
    "!mkdir -p /home/ma-user/work/ft/config\n",
    "!xtuner copy-cfg internlm2_7b_qlora_alpaca_e3 /home/ma-user/work/ft/config/\n",
    "# 重命名配置文件\n",
    "!cd /home/ma-user/work/ft/config/\n",
    "!mv internlm2_chat_7b_qlora_alpaca_e3_copy.py internlm2_chat_7b_qlora_alpaca_e3.py \n",
    "\n",
    "# 配置文件位置：/home/ma-user/work/ft/config/internlm2_chat_7b_qlora_alpaca_e3.py"
   ]
  },
  {
   "cell_type": "markdown",
   "metadata": {},
   "source": [
    "修改配置文件，主要是模型与数据的类型：\n",
    "```\n",
    "# 修改模型地址（在第27行的位置）\n",
    "- pretrained_model_name_or_path = 'internlm/internlm2-7b'\n",
    "+ pretrained_model_name_or_path = '/home/ma-user/work/ft/model'\n",
    "\n",
    "# 修改数据集地址为本地的json文件地址（在第31行的位置）\n",
    "- alpaca_en_path = 'tatsu-lab/alpaca'\n",
    "+ alpaca_en_path = '/home/ma-user/work/ft/data/data.jsonl'\n",
    "\n",
    "# 修改评估的问题（在第59到61行的位置）\n",
    "- evaluation_inputs = ['请给我介绍五个上海的景点', 'Please tell me five scenic spots in Shanghai']\n",
    "+ evaluation_inputs = ['最近总是很焦虑我该怎么办！']\n",
    "\n",
    "# 把 OpenAI 格式的 map_fn 载入进来（在第15行的位置）\n",
    "- from xtuner.dataset.map_fns import alpaca_map_fn, template_map_fn_factory\n",
    "+ from xtuner.dataset.map_fns import openai_map_fn, template_map_fn_factory\n",
    "\n",
    "# 将原本是 alpaca 的地址改为是 json 文件的地址（在第102行的位置）\n",
    "- dataset=dict(type=load_dataset, path=alpaca_en_path),\n",
    "+ dataset=dict(type=load_dataset, path='json', data_files=dict(train=alpaca_en_path)),\n",
    "\n",
    "# 将 dataset_map_fn 改为通用的 OpenAI 数据集格式（在第105行的位置）\n",
    "- dataset_map_fn=alpaca_map_fn,\n",
    "+ dataset_map_fn=openai_map_fn,\n",
    "```\n",
    "除去以上之外，可以进行自由探索适当修改参数，请见[参考说明](https://github.com/InternLM/xtuner/blob/main/docs/zh_cn/user_guides/config.md)（注意是案例与本次使用的不尽相同）"
   ]
  },
  {
   "cell_type": "markdown",
   "metadata": {},
   "source": []
  },
  {
   "cell_type": "markdown",
   "metadata": {},
   "source": [
    "### 启动训练"
   ]
  },
  {
   "cell_type": "code",
   "execution_count": null,
   "metadata": {},
   "outputs": [],
   "source": [
    "# 将会在ft目录下产生一个train文件夹,训练正常进行 xx.th,记录着某一训练轮此的结果,xx请根据实际修改\n",
    "!xtuner train /home/ma-user/work/ft/config/internlm2_chat_7b_qlora_alpaca_e3.py --work-dir /home/ma-user/work/ft/train --deepspeed deepspeed_zero2\n",
    "\n",
    "# pth文件位置： /home/ma-user/work/ft/train/iter_xx.pth"
   ]
  },
  {
   "cell_type": "markdown",
   "metadata": {},
   "source": []
  },
  {
   "cell_type": "markdown",
   "metadata": {},
   "source": [
    "### pth 转 huggingface"
   ]
  },
  {
   "cell_type": "code",
   "execution_count": null,
   "metadata": {},
   "outputs": [],
   "source": [
    "# 建huggingface文件夹，可以将其理解为“LoRA 模型文件”，同时也等于Adapter\n",
    "!mkdir -p /home/ma-user/work/ft/huggingface\n",
    "# pth转置为huggingface文件\n",
    "!xtuner convert pth_to_hf /home/ma-user/work/ft/config/internlm2_chat_7b_qlora_alpaca_e3.py /home/ma-user/work/ft/train/iter_xx.pth /home/ma-user/work/ft/huggingface"
   ]
  },
  {
   "cell_type": "markdown",
   "metadata": {},
   "source": []
  },
  {
   "cell_type": "markdown",
   "metadata": {},
   "source": [
    "### 部署与测试"
   ]
  },
  {
   "cell_type": "code",
   "execution_count": null,
   "metadata": {},
   "outputs": [],
   "source": [
    "# 将 HuggingFace adapter 合并到大语言模型：\n",
    "# 创建一个存放最终模型的路径\n",
    "!mkdir -p /home/ma-user/work/ft/final_model\n",
    "\n",
    "# 解决一下线程冲突的 Bug \n",
    "!export MKL_SERVICE_FORCE_INTEL=1\n",
    "\n",
    "# 进行模型整合\n",
    "!xtuner convert merge /home/ma-user/work/ft/model /home/ma-user/work/ft/huggingface /home/ma-user/work/ft/final_model\n",
    "\n",
    "# 加载 Adapter 模型对话（Float 16）\n",
    "!xtuner chat /home/ma-user/work/ft/final_model --prompt-template internlm2_chat"
   ]
  }
 ],
 "metadata": {
  "kernelspec": {
   "display_name": "base",
   "language": "python",
   "name": "python3"
  },
  "language_info": {
   "codemirror_mode": {
    "name": "ipython",
    "version": 3
   },
   "file_extension": ".py",
   "mimetype": "text/x-python",
   "name": "python",
   "nbconvert_exporter": "python",
   "pygments_lexer": "ipython3",
   "version": "3.11.7"
  }
 },
 "nbformat": 4,
 "nbformat_minor": 2
}
